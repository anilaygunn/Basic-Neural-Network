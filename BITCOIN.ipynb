{
  "nbformat": 4,
  "nbformat_minor": 0,
  "metadata": {
    "colab": {
      "provenance": [],
      "authorship_tag": "ABX9TyNI7ewclBLBCcO7T7Pk1L8U",
      "include_colab_link": true
    },
    "kernelspec": {
      "name": "python3",
      "display_name": "Python 3"
    },
    "language_info": {
      "name": "python"
    }
  },
  "cells": [
    {
      "cell_type": "markdown",
      "metadata": {
        "id": "view-in-github",
        "colab_type": "text"
      },
      "source": [
        "<a href=\"https://colab.research.google.com/github/anilaygunn/Basic-Neural-Network/blob/master/BITCOIN.ipynb\" target=\"_parent\"><img src=\"https://colab.research.google.com/assets/colab-badge.svg\" alt=\"Open In Colab\"/></a>"
      ]
    },
    {
      "cell_type": "code",
      "execution_count": null,
      "metadata": {
        "id": "uHl49rCVqBcx"
      },
      "outputs": [],
      "source": [
        "import pandas as pd\n",
        "import numpy as np\n",
        "import matplotlib.pyplot as plt\n"
      ]
    },
    {
      "cell_type": "code",
      "source": [
        "dataset = pd.read_csv(\"BTC-USD.csv\")\n",
        "dataset = dataset[[\"Date\",\"Close\"]]\n",
        "dataset.columns = [\"Date\", \"Close\"]\n",
        "dataset['Time'] =np.arange(len(dataset.index))\n",
        "\n",
        "X = np.array(dataset[\"Time\"].values.astype(int))\n",
        "X_1 = X.reshape(len(dataset.index),1)\n",
        "y = dataset.iloc[:, 1].values\n"
      ],
      "metadata": {
        "id": "kXcgYyjKuxUm"
      },
      "execution_count": null,
      "outputs": []
    },
    {
      "cell_type": "code",
      "source": [
        "from sklearn.model_selection import train_test_split\n",
        "\n",
        "X_train,X_test,y_train,y_test = train_test_split(X_1,y,test_size=0.2,random_state=1)\n"
      ],
      "metadata": {
        "id": "yyQ4_1fHz1-l"
      },
      "execution_count": null,
      "outputs": []
    },
    {
      "cell_type": "code",
      "source": [
        "from sklearn.linear_model import LinearRegression\n",
        "regressor = LinearRegression()\n",
        "regressor.fit(X_train,y_train)\n",
        "\n"
      ],
      "metadata": {
        "colab": {
          "base_uri": "https://localhost:8080/",
          "height": 74
        },
        "id": "b5x4wkhtz4jG",
        "outputId": "5417a499-df22-4b74-e00f-aca9bdb591e0"
      },
      "execution_count": null,
      "outputs": [
        {
          "output_type": "execute_result",
          "data": {
            "text/plain": [
              "LinearRegression()"
            ],
            "text/html": [
              "<style>#sk-container-id-1 {color: black;background-color: white;}#sk-container-id-1 pre{padding: 0;}#sk-container-id-1 div.sk-toggleable {background-color: white;}#sk-container-id-1 label.sk-toggleable__label {cursor: pointer;display: block;width: 100%;margin-bottom: 0;padding: 0.3em;box-sizing: border-box;text-align: center;}#sk-container-id-1 label.sk-toggleable__label-arrow:before {content: \"▸\";float: left;margin-right: 0.25em;color: #696969;}#sk-container-id-1 label.sk-toggleable__label-arrow:hover:before {color: black;}#sk-container-id-1 div.sk-estimator:hover label.sk-toggleable__label-arrow:before {color: black;}#sk-container-id-1 div.sk-toggleable__content {max-height: 0;max-width: 0;overflow: hidden;text-align: left;background-color: #f0f8ff;}#sk-container-id-1 div.sk-toggleable__content pre {margin: 0.2em;color: black;border-radius: 0.25em;background-color: #f0f8ff;}#sk-container-id-1 input.sk-toggleable__control:checked~div.sk-toggleable__content {max-height: 200px;max-width: 100%;overflow: auto;}#sk-container-id-1 input.sk-toggleable__control:checked~label.sk-toggleable__label-arrow:before {content: \"▾\";}#sk-container-id-1 div.sk-estimator input.sk-toggleable__control:checked~label.sk-toggleable__label {background-color: #d4ebff;}#sk-container-id-1 div.sk-label input.sk-toggleable__control:checked~label.sk-toggleable__label {background-color: #d4ebff;}#sk-container-id-1 input.sk-hidden--visually {border: 0;clip: rect(1px 1px 1px 1px);clip: rect(1px, 1px, 1px, 1px);height: 1px;margin: -1px;overflow: hidden;padding: 0;position: absolute;width: 1px;}#sk-container-id-1 div.sk-estimator {font-family: monospace;background-color: #f0f8ff;border: 1px dotted black;border-radius: 0.25em;box-sizing: border-box;margin-bottom: 0.5em;}#sk-container-id-1 div.sk-estimator:hover {background-color: #d4ebff;}#sk-container-id-1 div.sk-parallel-item::after {content: \"\";width: 100%;border-bottom: 1px solid gray;flex-grow: 1;}#sk-container-id-1 div.sk-label:hover label.sk-toggleable__label {background-color: #d4ebff;}#sk-container-id-1 div.sk-serial::before {content: \"\";position: absolute;border-left: 1px solid gray;box-sizing: border-box;top: 0;bottom: 0;left: 50%;z-index: 0;}#sk-container-id-1 div.sk-serial {display: flex;flex-direction: column;align-items: center;background-color: white;padding-right: 0.2em;padding-left: 0.2em;position: relative;}#sk-container-id-1 div.sk-item {position: relative;z-index: 1;}#sk-container-id-1 div.sk-parallel {display: flex;align-items: stretch;justify-content: center;background-color: white;position: relative;}#sk-container-id-1 div.sk-item::before, #sk-container-id-1 div.sk-parallel-item::before {content: \"\";position: absolute;border-left: 1px solid gray;box-sizing: border-box;top: 0;bottom: 0;left: 50%;z-index: -1;}#sk-container-id-1 div.sk-parallel-item {display: flex;flex-direction: column;z-index: 1;position: relative;background-color: white;}#sk-container-id-1 div.sk-parallel-item:first-child::after {align-self: flex-end;width: 50%;}#sk-container-id-1 div.sk-parallel-item:last-child::after {align-self: flex-start;width: 50%;}#sk-container-id-1 div.sk-parallel-item:only-child::after {width: 0;}#sk-container-id-1 div.sk-dashed-wrapped {border: 1px dashed gray;margin: 0 0.4em 0.5em 0.4em;box-sizing: border-box;padding-bottom: 0.4em;background-color: white;}#sk-container-id-1 div.sk-label label {font-family: monospace;font-weight: bold;display: inline-block;line-height: 1.2em;}#sk-container-id-1 div.sk-label-container {text-align: center;}#sk-container-id-1 div.sk-container {/* jupyter's `normalize.less` sets `[hidden] { display: none; }` but bootstrap.min.css set `[hidden] { display: none !important; }` so we also need the `!important` here to be able to override the default hidden behavior on the sphinx rendered scikit-learn.org. See: https://github.com/scikit-learn/scikit-learn/issues/21755 */display: inline-block !important;position: relative;}#sk-container-id-1 div.sk-text-repr-fallback {display: none;}</style><div id=\"sk-container-id-1\" class=\"sk-top-container\"><div class=\"sk-text-repr-fallback\"><pre>LinearRegression()</pre><b>In a Jupyter environment, please rerun this cell to show the HTML representation or trust the notebook. <br />On GitHub, the HTML representation is unable to render, please try loading this page with nbviewer.org.</b></div><div class=\"sk-container\" hidden><div class=\"sk-item\"><div class=\"sk-estimator sk-toggleable\"><input class=\"sk-toggleable__control sk-hidden--visually\" id=\"sk-estimator-id-1\" type=\"checkbox\" checked><label for=\"sk-estimator-id-1\" class=\"sk-toggleable__label sk-toggleable__label-arrow\">LinearRegression</label><div class=\"sk-toggleable__content\"><pre>LinearRegression()</pre></div></div></div></div></div>"
            ]
          },
          "metadata": {},
          "execution_count": 97
        }
      ]
    },
    {
      "cell_type": "code",
      "source": [
        "y_pred = regressor.predict(X_test)\n",
        "date = 0\n",
        "for i in range (0,74):\n",
        "  print(y_pred[i],\"\\t\",dataset[\"Time\"][date])\n",
        "  date+=1\n"
      ],
      "metadata": {
        "colab": {
          "base_uri": "https://localhost:8080/"
        },
        "id": "XiSMTy2lz69K",
        "outputId": "14a38850-719b-4d62-ae38-648a50582e61"
      },
      "execution_count": null,
      "outputs": [
        {
          "output_type": "stream",
          "name": "stdout",
          "text": [
            "53409.91540079343 \t 0\n",
            "58290.75351921278 \t 1\n",
            "45356.53250540147 \t 2\n",
            "30347.955291261926 \t 3\n",
            "42428.02963434985 \t 4\n",
            "35716.87722152323 \t 5\n",
            "44868.448693559534 \t 6\n",
            "27419.452420210306 \t 7\n",
            "49139.18204717648 \t 8\n",
            "18511.92285409497 \t 9\n",
            "39743.5686692192 \t 10\n",
            "59755.004954738586 \t 11\n",
            "39011.442951456294 \t 12\n",
            "25467.11717284256 \t 13\n",
            "49627.265859018415 \t 14\n",
            "55850.3344600031 \t 15\n",
            "28883.703855736116 \t 16\n",
            "62317.44496690876 \t 17\n",
            "47796.951564611154 \t 18\n",
            "34862.73055079984 \t 19\n",
            "27785.51527909176 \t 20\n",
            "32910.395303432095 \t 21\n",
            "37791.23342185146 \t 22\n",
            "32178.269585669186 \t 23\n",
            "50725.454435662774 \t 24\n",
            "61829.36115506683 \t 25\n",
            "38035.275327772426 \t 26\n",
            "59632.98400177811 \t 27\n",
            "33886.56292711596 \t 28\n",
            "30836.03910310386 \t 29\n",
            "35838.89817448371 \t 30\n",
            "18389.901901134486 \t 31\n",
            "44990.46964652002 \t 32\n",
            "40841.757245863555 \t 33\n",
            "29249.76671461757 \t 34\n",
            "19976.17428962078 \t 35\n",
            "45966.63727020389 \t 36\n",
            "49261.20300013696 \t 37\n",
            "43892.281069875666 \t 38\n",
            "40475.694386982104 \t 39\n",
            "50969.49634158374 \t 40\n",
            "57924.690660331325 \t 41\n",
            "19244.048571857875 \t 42\n",
            "26077.221937644983 \t 43\n",
            "20098.195242581263 \t 44\n",
            "25833.180031724016 \t 45\n",
            "62195.42401394827 \t 46\n",
            "40963.778198824046 \t 47\n",
            "50847.47538862325 \t 48\n",
            "22904.677160672396 \t 49\n",
            "55362.25064816116 \t 50\n",
            "38889.42199849582 \t 51\n",
            "34740.70959783935 \t 52\n",
            "38767.40104553533 \t 53\n",
            "52555.768730070035 \t 54\n",
            "32544.33244455064 \t 55\n",
            "32422.311491590153 \t 56\n",
            "51213.53824750471 \t 57\n",
            "19488.090477778842 \t 58\n",
            "18633.943807055453 \t 59\n",
            "58900.85828401521 \t 60\n",
            "57070.54398960795 \t 61\n",
            "33398.47911527403 \t 62\n",
            "61097.23543730391 \t 63\n",
            "61585.31924914586 \t 64\n",
            "41207.82010474501 \t 65\n",
            "46210.67917612486 \t 66\n",
            "52921.83158895148 \t 67\n",
            "29493.808620538537 \t 68\n",
            "38523.35913961436 \t 69\n",
            "51335.559200465184 \t 70\n",
            "37425.17056297 \t 71\n",
            "59144.900189936176 \t 72\n",
            "32788.37435047161 \t 73\n"
          ]
        }
      ]
    },
    {
      "cell_type": "code",
      "source": [],
      "metadata": {
        "id": "PhqZlO07AANZ"
      },
      "execution_count": null,
      "outputs": []
    }
  ]
}